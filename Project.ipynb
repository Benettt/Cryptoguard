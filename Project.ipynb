{
 "cells": [
  {
   "cell_type": "markdown",
   "id": "cd6c7f29-5fc6-432c-beee-75c89cf2a720",
   "metadata": {},
   "source": [
    "#### Cryptoguard"
   ]
  },
  {
   "cell_type": "code",
   "execution_count": 2,
   "id": "ef1c38d6-e2c6-41a1-9ca3-d2e214226b9c",
   "metadata": {},
   "outputs": [
    {
     "name": "stdout",
     "output_type": "stream",
     "text": [
      "\n",
      "Password Manager Menu:\n",
      "1. Add Password\n",
      "2. Retrieve Password\n",
      "3. Exit\n"
     ]
    },
    {
     "name": "stdin",
     "output_type": "stream",
     "text": [
      "Enter your choice:  3\n"
     ]
    },
    {
     "name": "stdout",
     "output_type": "stream",
     "text": [
      "Exiting Password Manager. See yaaa!!!\n"
     ]
    }
   ],
   "source": [
    "import re\n",
    "from cryptography.fernet import Fernet\n",
    "\n",
    "# Function to generate an encryption key\n",
    "def generate_key():\n",
    "    return Fernet.generate_key()\n",
    "\n",
    "# Function to load the encryption key from file1\n",
    "def load_key():\n",
    "    try:\n",
    "        with open(\"key.key\", \"rb\") as key_file:\n",
    "            return key_file.read()\n",
    "    except FileNotFoundError:\n",
    "        return None\n",
    "\n",
    "# Function to write the encryption key to file\n",
    "def write_key(key):\n",
    "    with open(\"key.key\", \"wb\") as key_file:\n",
    "        key_file.write(key)\n",
    "\n",
    "# Function to encrypt a password using the encryption key\n",
    "def encrypt_password(password, key):\n",
    "    f = Fernet(key)\n",
    "    return f.encrypt(password.encode())\n",
    "\n",
    "# Function to decrypt an encrypted password using the encryption key\n",
    "def decrypt_password(encrypted_password, key):\n",
    "    f = Fernet(key)\n",
    "    return f.decrypt(encrypted_password).decode()\n",
    "\n",
    "# Function to add a password to the password manager with password strength validation\n",
    "def add_password(passwords, key):\n",
    "    while True:\n",
    "        website = input(\"Enter website: \")\n",
    "        username = input(\"Enter username: \")\n",
    "        password = input(\"Enter password: \")\n",
    "\n",
    "        # Password strength criteria\n",
    "        password_strength_pattern = re.compile(\n",
    "            r\"^(?=.*[a-z])(?=.*[A-Z])(?=.*\\d)(?=.*[@$!%*?&])[A-Za-z\\d@$!%*?&]{8,}$\"\n",
    "        )\n",
    "\n",
    "        if not password_strength_pattern.match(password):\n",
    "            print(\"Password should be at least 8 characters long and contain at least one uppercase letter, one lowercase letter, one digit, and one special character. Please try again.\")\n",
    "        else:\n",
    "            encrypted_password = encrypt_password(password, key)\n",
    "            passwords[website] = (username, encrypted_password)\n",
    "            print(\"Password added successfully!\")\n",
    "            break\n",
    "\n",
    "# Function to retrieve a password from the password manager\n",
    "def retrieve_password(passwords, key):\n",
    "    website = input(\"Enter website: \")\n",
    "    if website in passwords:\n",
    "        username, encrypted_password = passwords[website]\n",
    "        password = decrypt_password(encrypted_password, key)\n",
    "        print(f\"Username: {username}\")\n",
    "        print(f\"Password: {password}\")\n",
    "    else:\n",
    "        print(\"Password not found.\")\n",
    "\n",
    "# Main function to run the password manager\n",
    "def main():\n",
    "    # Load or generate the encryption key\n",
    "    key = load_key()\n",
    "    if key is None:\n",
    "        key = generate_key()\n",
    "        write_key(key)\n",
    "\n",
    "    passwords = {}  # Dictionary to store passwords\n",
    "\n",
    "    while True:\n",
    "        print(\"\\nPassword Manager Menu:\")\n",
    "        print(\"1. Add Password\")\n",
    "        print(\"2. Retrieve Password\")\n",
    "        print(\"3. Exit\")\n",
    "        \n",
    "        choice = input(\"Enter your choice: \")\n",
    "\n",
    "        if choice == '1':\n",
    "            add_password(passwords, key)\n",
    "        elif choice == '2':\n",
    "            retrieve_password(passwords, key)\n",
    "        elif choice == '3':\n",
    "            print(\"Exiting Password Manager. See yaaa!!!\")\n",
    "            break\n",
    "        else:\n",
    "            print(\"Invalid choice. Please try again.\")\n",
    "\n",
    "# Execute the main function if this script is run directly\n",
    "if __name__ == \"__main__\":\n",
    "    main()\n"
   ]
  },
  {
   "cell_type": "code",
   "execution_count": null,
   "id": "ae26310a-551a-4b8d-ab95-19a7adba4764",
   "metadata": {},
   "outputs": [],
   "source": []
  }
 ],
 "metadata": {
  "kernelspec": {
   "display_name": "Python 3 (ipykernel)",
   "language": "python",
   "name": "python3"
  },
  "language_info": {
   "codemirror_mode": {
    "name": "ipython",
    "version": 3
   },
   "file_extension": ".py",
   "mimetype": "text/x-python",
   "name": "python",
   "nbconvert_exporter": "python",
   "pygments_lexer": "ipython3",
   "version": "3.11.7"
  }
 },
 "nbformat": 4,
 "nbformat_minor": 5
}
